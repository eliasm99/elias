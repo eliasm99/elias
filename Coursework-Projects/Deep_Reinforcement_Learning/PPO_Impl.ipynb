{
 "cells": [
  {
   "cell_type": "code",
   "execution_count": 1,
   "id": "43755452-48dd-4ae9-bb3f-4e9f080793ed",
   "metadata": {},
   "outputs": [
    {
     "name": "stderr",
     "output_type": "stream",
     "text": [
      "2025-05-11 13:06:18,065\tWARNING deprecation.py:50 -- DeprecationWarning: `DirectStepOptimizer` has been deprecated. This will raise an error in the future!\n"
     ]
    }
   ],
   "source": [
    "import gymnasium as gym\n",
    "import ray\n",
    "import matplotlib.pyplot as plt\n",
    "from ray.rllib.algorithms.ppo import PPOConfig"
   ]
  },
  {
   "cell_type": "code",
   "execution_count": 2,
   "id": "ff37f169-9dea-4829-ac39-9da5d6ddd2a6",
   "metadata": {},
   "outputs": [
    {
     "name": "stderr",
     "output_type": "stream",
     "text": [
      "2025-05-11 13:06:26,263\tINFO worker.py:1621 -- Started a local Ray instance.\n"
     ]
    },
    {
     "data": {
      "application/vnd.jupyter.widget-view+json": {
       "model_id": "052ce90a8311497dab602c7537397d0f",
       "version_major": 2,
       "version_minor": 0
      },
      "text/html": [
       "<div class=\"lm-Widget p-Widget lm-Panel p-Panel jp-Cell-outputWrapper\">\n",
       "    <div style=\"margin-left: 50px;display: flex;flex-direction: row;align-items: center\">\n",
       "        <div class=\"jp-RenderedHTMLCommon\" style=\"display: flex; flex-direction: row;\">\n",
       "  <svg viewBox=\"0 0 567 224\" fill=\"none\" xmlns=\"http://www.w3.org/2000/svg\" style=\"height: 3em;\">\n",
       "    <g clip-path=\"url(#clip0_4338_178347)\">\n",
       "        <path d=\"M341.29 165.561H355.29L330.13 129.051C345.63 123.991 354.21 112.051 354.21 94.2307C354.21 71.3707 338.72 58.1807 311.88 58.1807H271V165.561H283.27V131.661H311.8C314.25 131.661 316.71 131.501 319.01 131.351L341.25 165.561H341.29ZM283.29 119.851V70.0007H311.82C331.3 70.0007 342.34 78.2907 342.34 94.5507C342.34 111.271 331.34 119.861 311.82 119.861L283.29 119.851ZM451.4 138.411L463.4 165.561H476.74L428.74 58.1807H416L367.83 165.561H380.83L392.83 138.411H451.4ZM446.19 126.601H398L422 72.1407L446.24 126.601H446.19ZM526.11 128.741L566.91 58.1807H554.35L519.99 114.181L485.17 58.1807H472.44L514.01 129.181V165.541H526.13V128.741H526.11Z\" fill=\"var(--jp-ui-font-color0)\"/>\n",
       "        <path d=\"M82.35 104.44C84.0187 97.8827 87.8248 92.0678 93.1671 87.9146C98.5094 83.7614 105.083 81.5067 111.85 81.5067C118.617 81.5067 125.191 83.7614 130.533 87.9146C135.875 92.0678 139.681 97.8827 141.35 104.44H163.75C164.476 101.562 165.622 98.8057 167.15 96.2605L127.45 56.5605C121.071 60.3522 113.526 61.6823 106.235 60.3005C98.9443 58.9187 92.4094 54.9203 87.8602 49.0574C83.3109 43.1946 81.0609 35.8714 81.5332 28.4656C82.0056 21.0599 85.1679 14.0819 90.4252 8.8446C95.6824 3.60726 102.672 0.471508 110.08 0.0272655C117.487 -0.416977 124.802 1.86091 130.647 6.4324C136.493 11.0039 140.467 17.5539 141.821 24.8501C143.175 32.1463 141.816 39.6859 138 46.0505L177.69 85.7505C182.31 82.9877 187.58 81.4995 192.962 81.4375C198.345 81.3755 203.648 82.742 208.33 85.3976C213.012 88.0532 216.907 91.9029 219.616 96.5544C222.326 101.206 223.753 106.492 223.753 111.875C223.753 117.258 222.326 122.545 219.616 127.197C216.907 131.848 213.012 135.698 208.33 138.353C203.648 141.009 198.345 142.375 192.962 142.313C187.58 142.251 182.31 140.763 177.69 138L138 177.7C141.808 184.071 143.155 191.614 141.79 198.91C140.424 206.205 136.44 212.75 130.585 217.313C124.731 221.875 117.412 224.141 110.004 223.683C102.596 223.226 95.6103 220.077 90.3621 214.828C85.1139 209.58 81.9647 202.595 81.5072 195.187C81.0497 187.779 83.3154 180.459 87.878 174.605C92.4405 168.751 98.9853 164.766 106.281 163.401C113.576 162.035 121.119 163.383 127.49 167.19L167.19 127.49C165.664 124.941 164.518 122.182 163.79 119.3H141.39C139.721 125.858 135.915 131.673 130.573 135.826C125.231 139.98 118.657 142.234 111.89 142.234C105.123 142.234 98.5494 139.98 93.2071 135.826C87.8648 131.673 84.0587 125.858 82.39 119.3H60C58.1878 126.495 53.8086 132.78 47.6863 136.971C41.5641 141.163 34.1211 142.972 26.7579 142.059C19.3947 141.146 12.6191 137.574 7.70605 132.014C2.79302 126.454 0.0813599 119.29 0.0813599 111.87C0.0813599 104.451 2.79302 97.2871 7.70605 91.7272C12.6191 86.1673 19.3947 82.5947 26.7579 81.6817C34.1211 80.7686 41.5641 82.5781 47.6863 86.7696C53.8086 90.9611 58.1878 97.2456 60 104.44H82.35ZM100.86 204.32C103.407 206.868 106.759 208.453 110.345 208.806C113.93 209.159 117.527 208.258 120.522 206.256C123.517 204.254 125.725 201.276 126.771 197.828C127.816 194.38 127.633 190.677 126.253 187.349C124.874 184.021 122.383 181.274 119.205 179.577C116.027 177.88 112.359 177.337 108.826 178.042C105.293 178.746 102.113 180.654 99.8291 183.44C97.5451 186.226 96.2979 189.718 96.3 193.32C96.2985 195.364 96.7006 197.388 97.4831 199.275C98.2656 201.163 99.4132 202.877 100.86 204.32ZM204.32 122.88C206.868 120.333 208.453 116.981 208.806 113.396C209.159 109.811 208.258 106.214 206.256 103.219C204.254 100.223 201.275 98.0151 197.827 96.97C194.38 95.9249 190.676 96.1077 187.348 97.4873C184.02 98.8669 181.274 101.358 179.577 104.536C177.879 107.714 177.337 111.382 178.041 114.915C178.746 118.448 180.653 121.627 183.439 123.911C186.226 126.195 189.717 127.443 193.32 127.44C195.364 127.443 197.388 127.042 199.275 126.259C201.163 125.476 202.878 124.328 204.32 122.88ZM122.88 19.4205C120.333 16.8729 116.981 15.2876 113.395 14.9347C109.81 14.5817 106.213 15.483 103.218 17.4849C100.223 19.4868 98.0146 22.4654 96.9696 25.9131C95.9245 29.3608 96.1073 33.0642 97.4869 36.3922C98.8665 39.7202 101.358 42.4668 104.535 44.1639C107.713 45.861 111.381 46.4036 114.914 45.6992C118.447 44.9949 121.627 43.0871 123.911 40.301C126.195 37.515 127.442 34.0231 127.44 30.4205C127.44 28.3772 127.038 26.3539 126.255 24.4664C125.473 22.5788 124.326 20.8642 122.88 19.4205ZM19.42 100.86C16.8725 103.408 15.2872 106.76 14.9342 110.345C14.5813 113.93 15.4826 117.527 17.4844 120.522C19.4863 123.518 22.4649 125.726 25.9127 126.771C29.3604 127.816 33.0638 127.633 36.3918 126.254C39.7198 124.874 42.4664 122.383 44.1635 119.205C45.8606 116.027 46.4032 112.359 45.6988 108.826C44.9944 105.293 43.0866 102.114 40.3006 99.8296C37.5145 97.5455 34.0227 96.2983 30.42 96.3005C26.2938 96.3018 22.337 97.9421 19.42 100.86ZM100.86 100.86C98.3125 103.408 96.7272 106.76 96.3742 110.345C96.0213 113.93 96.9226 117.527 98.9244 120.522C100.926 123.518 103.905 125.726 107.353 126.771C110.8 127.816 114.504 127.633 117.832 126.254C121.16 124.874 123.906 122.383 125.604 119.205C127.301 116.027 127.843 112.359 127.139 108.826C126.434 105.293 124.527 102.114 121.741 99.8296C118.955 97.5455 115.463 96.2983 111.86 96.3005C109.817 96.299 107.793 96.701 105.905 97.4835C104.018 98.2661 102.303 99.4136 100.86 100.86Z\" fill=\"#00AEEF\"/>\n",
       "    </g>\n",
       "    <defs>\n",
       "        <clipPath id=\"clip0_4338_178347\">\n",
       "            <rect width=\"566.93\" height=\"223.75\" fill=\"white\"/>\n",
       "        </clipPath>\n",
       "    </defs>\n",
       "  </svg>\n",
       "</div>\n",
       "\n",
       "        <table class=\"jp-RenderedHTMLCommon\" style=\"border-collapse: collapse;color: var(--jp-ui-font-color1);font-size: var(--jp-ui-font-size1);\">\n",
       "    <tr>\n",
       "        <td style=\"text-align: left\"><b>Python version:</b></td>\n",
       "        <td style=\"text-align: left\"><b>3.10.16</b></td>\n",
       "    </tr>\n",
       "    <tr>\n",
       "        <td style=\"text-align: left\"><b>Ray version:</b></td>\n",
       "        <td style=\"text-align: left\"><b>2.6.3</b></td>\n",
       "    </tr>\n",
       "    \n",
       "</table>\n",
       "\n",
       "    </div>\n",
       "</div>\n"
      ],
      "text/plain": [
       "RayContext(dashboard_url='', python_version='3.10.16', ray_version='2.6.3', ray_commit='8a434b4ee7cd48e60fa1531315d39901fac5d79e', protocol_version=None)"
      ]
     },
     "execution_count": 2,
     "metadata": {},
     "output_type": "execute_result"
    }
   ],
   "source": [
    "# Initialize Ray\n",
    "ray.init(ignore_reinit_error=True)"
   ]
  },
  {
   "cell_type": "code",
   "execution_count": 3,
   "id": "b5606d87-5ae7-494b-adc7-b90ffda7317e",
   "metadata": {},
   "outputs": [
    {
     "name": "stderr",
     "output_type": "stream",
     "text": [
      "2025-05-11 13:08:20,898\tWARNING algorithm_config.py:2558 -- Setting `exploration_config={}` because you set `_enable_rl_module_api=True`. When RLModule API are enabled, exploration_config can not be set. If you want to implement custom exploration behaviour, please modify the `forward_exploration` method of the RLModule at hand. On configs that have a default exploration config, this must be done with `config.exploration_config={}`.\n"
     ]
    }
   ],
   "source": [
    "# PPO Configuration\n",
    "config = (\n",
    "    PPOConfig()\n",
    "    .environment(env=\"ALE/Pong-ram-v5\")  # Atari RAM environment\n",
    "    .framework(\"torch\")\n",
    "    .resources(num_gpus=0)  # Set to 1 if using CUDA\n",
    "    .rollouts(num_rollout_workers=0)  # Use >0 if not on notebook\n",
    "    .training(\n",
    "        gamma=0.99,\n",
    "        lr=5e-5,  # Often smaller for PPO\n",
    "        train_batch_size=4000,\n",
    "        sgd_minibatch_size=128,\n",
    "        num_sgd_iter=10,\n",
    "        model={\"fcnet_hiddens\": [256], \"fcnet_activation\": \"relu\"},\n",
    "    )\n",
    "    .debugging(log_level=\"WARN\")\n",
    ")"
   ]
  },
  {
   "cell_type": "code",
   "execution_count": 4,
   "id": "8d54bc27-bd11-4f76-9094-98585999ae18",
   "metadata": {},
   "outputs": [
    {
     "name": "stderr",
     "output_type": "stream",
     "text": [
      "2025-05-11 13:08:22,631\tWARNING algorithm_config.py:2558 -- Setting `exploration_config={}` because you set `_enable_rl_module_api=True`. When RLModule API are enabled, exploration_config can not be set. If you want to implement custom exploration behaviour, please modify the `forward_exploration` method of the RLModule at hand. On configs that have a default exploration config, this must be done with `config.exploration_config={}`.\n",
      "C:\\Users\\elias\\anaconda3\\envs\\rllib-atari\\lib\\site-packages\\ray\\rllib\\algorithms\\algorithm.py:484: RayDeprecationWarning: This API is deprecated and may be removed in future Ray releases. You could suppress this warning by setting env variable PYTHONWARNINGS=\"ignore::DeprecationWarning\"\n",
      "`UnifiedLogger` will be removed in Ray 2.7.\n",
      "  return UnifiedLogger(config, logdir, loggers=None)\n",
      "C:\\Users\\elias\\anaconda3\\envs\\rllib-atari\\lib\\site-packages\\ray\\tune\\logger\\unified.py:53: RayDeprecationWarning: This API is deprecated and may be removed in future Ray releases. You could suppress this warning by setting env variable PYTHONWARNINGS=\"ignore::DeprecationWarning\"\n",
      "The `JsonLogger interface is deprecated in favor of the `ray.tune.json.JsonLoggerCallback` interface and will be removed in Ray 2.7.\n",
      "  self._loggers.append(cls(self.config, self.logdir, self.trial))\n",
      "C:\\Users\\elias\\anaconda3\\envs\\rllib-atari\\lib\\site-packages\\ray\\tune\\logger\\unified.py:53: RayDeprecationWarning: This API is deprecated and may be removed in future Ray releases. You could suppress this warning by setting env variable PYTHONWARNINGS=\"ignore::DeprecationWarning\"\n",
      "The `CSVLogger interface is deprecated in favor of the `ray.tune.csv.CSVLoggerCallback` interface and will be removed in Ray 2.7.\n",
      "  self._loggers.append(cls(self.config, self.logdir, self.trial))\n",
      "C:\\Users\\elias\\anaconda3\\envs\\rllib-atari\\lib\\site-packages\\ray\\tune\\logger\\unified.py:53: RayDeprecationWarning: This API is deprecated and may be removed in future Ray releases. You could suppress this warning by setting env variable PYTHONWARNINGS=\"ignore::DeprecationWarning\"\n",
      "The `TBXLogger interface is deprecated in favor of the `ray.tune.tensorboardx.TBXLoggerCallback` interface and will be removed in Ray 2.7.\n",
      "  self._loggers.append(cls(self.config, self.logdir, self.trial))\n",
      "C:\\Users\\elias\\anaconda3\\envs\\rllib-atari\\lib\\site-packages\\gym\\utils\\passive_env_checker.py:233: DeprecationWarning: `np.bool8` is a deprecated alias for `np.bool_`.  (Deprecated NumPy 1.24)\n",
      "  if not isinstance(terminated, (bool, np.bool8)):\n",
      "2025-05-11 13:08:23,030\tWARNING algorithm_config.py:2558 -- Setting `exploration_config={}` because you set `_enable_rl_module_api=True`. When RLModule API are enabled, exploration_config can not be set. If you want to implement custom exploration behaviour, please modify the `forward_exploration` method of the RLModule at hand. On configs that have a default exploration config, this must be done with `config.exploration_config={}`.\n",
      "2025-05-11 13:08:23,057\tWARNING deprecation.py:50 -- DeprecationWarning: `ValueNetworkMixin` has been deprecated. This will raise an error in the future!\n",
      "2025-05-11 13:08:23,059\tWARNING deprecation.py:50 -- DeprecationWarning: `LearningRateSchedule` has been deprecated. This will raise an error in the future!\n",
      "2025-05-11 13:08:23,060\tWARNING deprecation.py:50 -- DeprecationWarning: `EntropyCoeffSchedule` has been deprecated. This will raise an error in the future!\n",
      "2025-05-11 13:08:23,061\tWARNING deprecation.py:50 -- DeprecationWarning: `KLCoeffMixin` has been deprecated. This will raise an error in the future!\n",
      "2025-05-11 13:08:27,551\tWARNING util.py:68 -- Install gputil for GPU system monitoring.\n"
     ]
    },
    {
     "name": "stdout",
     "output_type": "stream",
     "text": [
      "PPO Episode 0 - Avg Reward: -20.00\n",
      "PPO Episode 1 - Avg Reward: -20.12\n",
      "PPO Episode 2 - Avg Reward: -20.25\n",
      "PPO Episode 3 - Avg Reward: -20.18\n",
      "PPO Episode 4 - Avg Reward: -20.05\n",
      "PPO Episode 5 - Avg Reward: -20.16\n",
      "PPO Episode 6 - Avg Reward: -20.17\n",
      "PPO Episode 7 - Avg Reward: -20.09\n",
      "PPO Episode 8 - Avg Reward: -20.03\n",
      "PPO Episode 9 - Avg Reward: -20.02\n",
      "PPO Episode 10 - Avg Reward: -19.98\n",
      "PPO Episode 11 - Avg Reward: -19.96\n",
      "PPO Episode 12 - Avg Reward: -19.94\n",
      "PPO Episode 13 - Avg Reward: -19.94\n",
      "PPO Episode 14 - Avg Reward: -19.91\n",
      "PPO Episode 15 - Avg Reward: -19.92\n",
      "PPO Episode 16 - Avg Reward: -19.86\n",
      "PPO Episode 17 - Avg Reward: -19.83\n",
      "PPO Episode 18 - Avg Reward: -19.85\n",
      "PPO Episode 19 - Avg Reward: -19.84\n",
      "PPO Episode 20 - Avg Reward: -19.86\n",
      "PPO Episode 21 - Avg Reward: -19.88\n",
      "PPO Episode 22 - Avg Reward: -19.89\n",
      "PPO Episode 23 - Avg Reward: -19.88\n",
      "PPO Episode 24 - Avg Reward: -19.87\n",
      "PPO Episode 25 - Avg Reward: -19.89\n",
      "PPO Episode 26 - Avg Reward: -19.85\n",
      "PPO Episode 27 - Avg Reward: -19.84\n",
      "PPO Episode 28 - Avg Reward: -19.82\n",
      "PPO Episode 29 - Avg Reward: -19.78\n",
      "PPO Episode 30 - Avg Reward: -19.79\n",
      "PPO Episode 31 - Avg Reward: -19.78\n",
      "PPO Episode 32 - Avg Reward: -19.76\n",
      "PPO Episode 33 - Avg Reward: -19.76\n",
      "PPO Episode 34 - Avg Reward: -19.78\n",
      "PPO Episode 35 - Avg Reward: -19.73\n",
      "PPO Episode 36 - Avg Reward: -19.72\n",
      "PPO Episode 37 - Avg Reward: -19.69\n",
      "PPO Episode 38 - Avg Reward: -19.69\n",
      "PPO Episode 39 - Avg Reward: -19.72\n",
      "PPO Episode 40 - Avg Reward: -19.70\n",
      "PPO Episode 41 - Avg Reward: -19.73\n",
      "PPO Episode 42 - Avg Reward: -19.72\n",
      "PPO Episode 43 - Avg Reward: -19.71\n",
      "PPO Episode 44 - Avg Reward: -19.74\n",
      "PPO Episode 45 - Avg Reward: -19.75\n",
      "PPO Episode 46 - Avg Reward: -19.71\n",
      "PPO Episode 47 - Avg Reward: -19.70\n",
      "PPO Episode 48 - Avg Reward: -19.70\n",
      "PPO Episode 49 - Avg Reward: -19.69\n",
      "PPO Episode 50 - Avg Reward: -19.70\n",
      "PPO Episode 51 - Avg Reward: -19.71\n",
      "PPO Episode 52 - Avg Reward: -19.73\n",
      "PPO Episode 53 - Avg Reward: -19.69\n",
      "PPO Episode 54 - Avg Reward: -19.64\n",
      "PPO Episode 55 - Avg Reward: -19.68\n",
      "PPO Episode 56 - Avg Reward: -19.65\n",
      "PPO Episode 57 - Avg Reward: -19.65\n",
      "PPO Episode 58 - Avg Reward: -19.63\n",
      "PPO Episode 59 - Avg Reward: -19.57\n",
      "PPO Episode 60 - Avg Reward: -19.57\n",
      "PPO Episode 61 - Avg Reward: -19.54\n",
      "PPO Episode 62 - Avg Reward: -19.53\n",
      "PPO Episode 63 - Avg Reward: -19.47\n",
      "PPO Episode 64 - Avg Reward: -19.44\n",
      "PPO Episode 65 - Avg Reward: -19.46\n",
      "PPO Episode 66 - Avg Reward: -19.47\n",
      "PPO Episode 67 - Avg Reward: -19.47\n",
      "PPO Episode 68 - Avg Reward: -19.46\n",
      "PPO Episode 69 - Avg Reward: -19.42\n",
      "PPO Episode 70 - Avg Reward: -19.37\n",
      "PPO Episode 71 - Avg Reward: -19.35\n",
      "PPO Episode 72 - Avg Reward: -19.30\n",
      "PPO Episode 73 - Avg Reward: -19.26\n",
      "PPO Episode 74 - Avg Reward: -19.25\n",
      "PPO Episode 75 - Avg Reward: -19.22\n",
      "PPO Episode 76 - Avg Reward: -19.21\n",
      "PPO Episode 77 - Avg Reward: -19.20\n",
      "PPO Episode 78 - Avg Reward: -19.17\n",
      "PPO Episode 79 - Avg Reward: -19.15\n",
      "PPO Episode 80 - Avg Reward: -19.13\n",
      "PPO Episode 81 - Avg Reward: -19.09\n",
      "PPO Episode 82 - Avg Reward: -19.09\n",
      "PPO Episode 83 - Avg Reward: -19.05\n",
      "PPO Episode 84 - Avg Reward: -19.01\n",
      "PPO Episode 85 - Avg Reward: -18.98\n",
      "PPO Episode 86 - Avg Reward: -18.95\n",
      "PPO Episode 87 - Avg Reward: -19.02\n",
      "PPO Episode 88 - Avg Reward: -19.02\n",
      "PPO Episode 89 - Avg Reward: -19.03\n",
      "PPO Episode 90 - Avg Reward: -19.05\n",
      "PPO Episode 91 - Avg Reward: -19.06\n",
      "PPO Episode 92 - Avg Reward: -19.07\n",
      "PPO Episode 93 - Avg Reward: -19.08\n",
      "PPO Episode 94 - Avg Reward: -19.07\n",
      "PPO Episode 95 - Avg Reward: -19.13\n",
      "PPO Episode 96 - Avg Reward: -19.14\n",
      "PPO Episode 97 - Avg Reward: -19.14\n",
      "PPO Episode 98 - Avg Reward: -19.17\n",
      "PPO Episode 99 - Avg Reward: -19.19\n"
     ]
    }
   ],
   "source": [
    "from ray.rllib.algorithms.ppo import PPO\n",
    "\n",
    "# Build PPO trainer\n",
    "algo = config.build()\n",
    "avg_rewards = []\n",
    "\n",
    "# Training Loop\n",
    "for episode in range(100):  \n",
    "    result = algo.train()\n",
    "    reward = result[\"episode_reward_mean\"]\n",
    "    print(f\"PPO Episode {episode} - Avg Reward: {reward:.2f}\")\n",
    "    avg_rewards.append(reward)"
   ]
  },
  {
   "cell_type": "markdown",
   "id": "ae1de652-2122-463b-9b2a-4b178c356296",
   "metadata": {},
   "source": [
    "### Plot the Learning Curve"
   ]
  },
  {
   "cell_type": "code",
   "execution_count": 5,
   "id": "ee4f42ed-0be2-41a5-bb1b-8f3d600679c1",
   "metadata": {},
   "outputs": [
    {
     "data": {
      "image/png": "[encoded data removed]",
      "text/plain": [
       "<Figure size 640x480 with 1 Axes>"
      ]
     },
     "metadata": {},
     "output_type": "display_data"
    }
   ],
   "source": [
    "# Plotting\n",
    "plt.plot(avg_rewards)\n",
    "plt.xlabel(\"Episode\")\n",
    "plt.ylabel(\"Average Reward\")\n",
    "plt.title(\"PPO Performance on Pong-ram-v5\")\n",
    "plt.grid(True)\n",
    "plt.show()"
   ]
  },
  {
   "cell_type": "code",
   "execution_count": null,
   "id": "0bb5cc57-540b-4a5e-9679-59d2b94f33c9",
   "metadata": {},
   "outputs": [],
   "source": []
  }
 ],
 "metadata": {
  "kernelspec": {
   "display_name": "Python 3 (ipykernel)",
   "language": "python",
   "name": "python3"
  },
  "language_info": {
   "codemirror_mode": {
    "name": "ipython",
    "version": 3
   },
   "file_extension": ".py",
   "mimetype": "text/x-python",
   "name": "python",
   "nbconvert_exporter": "python",
   "pygments_lexer": "ipython3",
   "version": "3.10.16"
  }
 },
 "nbformat": 4,
 "nbformat_minor": 5
}
